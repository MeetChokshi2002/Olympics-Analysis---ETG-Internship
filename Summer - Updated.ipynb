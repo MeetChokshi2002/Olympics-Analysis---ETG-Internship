{
  "nbformat": 4,
  "nbformat_minor": 0,
  "metadata": {
    "colab": {
      "name": "Olympic Analysis.ipynb",
      "provenance": [],
      "collapsed_sections": []
    },
    "kernelspec": {
      "name": "python3",
      "display_name": "Python 3"
    },
    "language_info": {
      "name": "python"
    }
  },
  "cells": [
    {
      "cell_type": "markdown",
      "metadata": {
        "id": "o2QAqwrBDpu8"
      },
      "source": [
        "# **Summer Olympics Data Analysis Assignment**"
      ]
    },
    {
      "cell_type": "markdown",
      "metadata": {
        "id": "mkJRrKBsD_hC"
      },
      "source": [
        "### **1. In how many cities Summer Olympics is held so far?**"
      ]
    },
    {
      "cell_type": "code",
      "metadata": {
        "colab": {
          "base_uri": "https://localhost:8080/"
        },
        "id": "YtAMFtGtV9FR",
        "outputId": "90ee2b2f-d2c6-48aa-efe2-3861adb14fe9"
      },
      "source": [
        "import pandas # Importing Pandas Library\n",
        "dataframe = pandas.read_csv(\"Summer.csv\") # Reading data from the \"Summmer.csv\" file\n",
        "\n",
        "print(len(dataframe['City'].unique())) # Prints unique cities/all cities present in data without repetition"
      ],
      "execution_count": 4,
      "outputs": [
        {
          "output_type": "stream",
          "name": "stdout",
          "text": [
            "22\n"
          ]
        }
      ]
    },
    {
      "cell_type": "markdown",
      "metadata": {
        "id": "sNHo0XRtELYi"
      },
      "source": [
        "### **2. Which sport is having most number of Gold Medals so far? (Top 5)**"
      ]
    },
    {
      "cell_type": "code",
      "metadata": {
        "colab": {
          "base_uri": "https://localhost:8080/",
          "height": 524
        },
        "id": "IUDirLhSYFwt",
        "outputId": "777a4821-af86-4dd2-ed7e-8740803bb8ad"
      },
      "source": [
        "import pandas # Importing Pandas Library\n",
        "dataframe = pandas.read_csv(\"Summer.csv\") # Reading data from the \"Summmer.csv\" file\n",
        "\n",
        "# Extracting only the rows which have Gold Medal\n",
        "dataframe_with_Gold = dataframe[dataframe['Medal'] == 'Gold']\n",
        "\n",
        "array_with_Gold = [] # Initialising empty array\n",
        "\n",
        "# Calculating gold medals for each sport\n",
        "for sport in dataframe_with_Gold['Sport'].unique():\n",
        "    array_with_Gold.append([sport, len(dataframe_with_Gold[dataframe_with_Gold['Sport'] == sport])])\n",
        "\n",
        "# Prints top 5 sports with respect to gold medals \n",
        "print(pandas.DataFrame(array_with_Gold,columns = ['Sport','Golds']).sort_values(by='Golds', ascending = False).head(),end=\"\\n\\n\")\n",
        "\n",
        "# Printing Bar chart of top 5 sports with respect to gold medals \n",
        "pandas.DataFrame(array_with_Gold,columns = ['Sport','Golds']).sort_values(by='Golds', ascending = False).head().plot(kind='bar', x='Sport', y='Golds', figsize=(5,5), color='turquoise')"
      ],
      "execution_count": 5,
      "outputs": [
        {
          "output_type": "stream",
          "name": "stdout",
          "text": [
            "         Sport  Golds\n",
            "0     Aquatics   1421\n",
            "1    Athletics   1215\n",
            "17      Rowing    890\n",
            "4   Gymnastics    820\n",
            "3      Fencing    552\n",
            "\n"
          ]
        },
        {
          "output_type": "execute_result",
          "data": {
            "text/plain": [
              "<matplotlib.axes._subplots.AxesSubplot at 0x7f5686578790>"
            ]
          },
          "metadata": {},
          "execution_count": 5
        },
        {
          "output_type": "display_data",
          "data": {
            "image/png": "[encoded data removed]",
            "text/plain": [
              "<Figure size 360x360 with 1 Axes>"
            ]
          },
          "metadata": {
            "needs_background": "light"
          }
        }
      ]
    },
    {
      "cell_type": "markdown",
      "metadata": {
        "id": "nPRIXJnXQl8Z"
      },
      "source": [
        "### **3. Which sport is having most number of medals so far? (Top 5)**"
      ]
    },
    {
      "cell_type": "code",
      "metadata": {
        "colab": {
          "base_uri": "https://localhost:8080/",
          "height": 524
        },
        "id": "jDbnG2Z4Vdgh",
        "outputId": "6e7cb367-da28-464c-9f6a-fb772ab3a9aa"
      },
      "source": [
        "import pandas # Importing Pandas Library\n",
        "dataframe = pandas.read_csv(\"Summer.csv\") # Reading data from the \"Summmer.csv\" file\n",
        "\n",
        "total_Medals = [] # Initialising empty array\n",
        "\n",
        "# Calculating medals for each sport\n",
        "for sport in dataframe['Sport'].unique():\n",
        "    total_Medals.append([sport, len(dataframe[dataframe['Sport'] == sport])])\n",
        "\n",
        "# Prints top 5 sports with respect to total medals earned\n",
        "print(pandas.DataFrame(total_Medals,columns = ['Sport','Medals']).sort_values(by='Medals', ascending = False).head(),end=\"\\n\\n\")\n",
        "\n",
        "# Printing Bar chart of top 5 sports with respect to total medals earned \n",
        "pandas.DataFrame(total_Medals,columns = ['Sport','Medals']).sort_values(by='Medals', ascending = False).head().plot(kind='bar', x='Sport', y='Medals', figsize=(5,5), color='orange')"
      ],
      "execution_count": 6,
      "outputs": [
        {
          "output_type": "stream",
          "name": "stdout",
          "text": [
            "         Sport  Medals\n",
            "0     Aquatics    4170\n",
            "1    Athletics    3638\n",
            "17      Rowing    2667\n",
            "4   Gymnastics    2307\n",
            "3      Fencing    1613\n",
            "\n"
          ]
        },
        {
          "output_type": "execute_result",
          "data": {
            "text/plain": [
              "<matplotlib.axes._subplots.AxesSubplot at 0x7f568633cb90>"
            ]
          },
          "metadata": {},
          "execution_count": 6
        },
        {
          "output_type": "display_data",
          "data": {
            "image/png": "[encoded data removed]",
            "text/plain": [
              "<Figure size 360x360 with 1 Axes>"
            ]
          },
          "metadata": {
            "needs_background": "light"
          }
        }
      ]
    },
    {
      "cell_type": "markdown",
      "metadata": {
        "id": "I0X4yGEnQmSn"
      },
      "source": [
        "### **4. Which player has won most number of medals? (Top 5)**"
      ]
    },
    {
      "cell_type": "code",
      "metadata": {
        "colab": {
          "base_uri": "https://localhost:8080/",
          "height": 583
        },
        "id": "DJGhA_iNYWTw",
        "outputId": "80bc22bf-a5ce-4f92-a892-db31da2a49fb"
      },
      "source": [
        "import pandas # Importing Pandas Library\n",
        "dataframe = pandas.read_csv(\"Summer.csv\") # Reading data from the \"Summmer.csv\" file\n",
        "\n",
        "total_Medals = [] # Initialising empty array\n",
        "\n",
        "# Calculating medals earned by each athlete\n",
        "for athlete in dataframe['Athlete'].unique():\n",
        "    total_Medals.append([athlete, len(dataframe[dataframe['Athlete'] == athlete])])\n",
        "\n",
        "# Prints top 5 athletes with respect to total medals earned\n",
        "print(pandas.DataFrame(total_Medals,columns = ['Athlete','Medals']).sort_values(by='Medals', ascending = False).head(),end=\"\\n\\n\")\n",
        "\n",
        "# Printing Bar chart of top 5 athletes with respect to total medals earned \n",
        "pandas.DataFrame(total_Medals,columns = ['Athlete','Medals']).sort_values(by='Medals', ascending = False).head().plot(kind='bar', x='Athlete', y='Medals', figsize=(5,5), color='orange')"
      ],
      "execution_count": 7,
      "outputs": [
        {
          "output_type": "stream",
          "name": "stdout",
          "text": [
            "                    Athlete  Medals\n",
            "18640       PHELPS, Michael      22\n",
            "7197       LATYNINA, Larisa      18\n",
            "9948     ANDRIANOV, Nikolay      15\n",
            "6591           ONO, Takashi      13\n",
            "5103   MANGIAROTTI, Edoardo      13\n",
            "\n"
          ]
        },
        {
          "output_type": "execute_result",
          "data": {
            "text/plain": [
              "<matplotlib.axes._subplots.AxesSubplot at 0x7f5686399e90>"
            ]
          },
          "metadata": {},
          "execution_count": 7
        },
        {
          "output_type": "display_data",
          "data": {
            "image/png": "[encoded data removed]",
            "text/plain": [
              "<Figure size 360x360 with 1 Axes>"
            ]
          },
          "metadata": {
            "needs_background": "light"
          }
        }
      ]
    },
    {
      "cell_type": "markdown",
      "metadata": {
        "id": "80-XaiXiQsW_"
      },
      "source": [
        "### **5. Which player has won most number Gold Medals of medals? (Top 5)**"
      ]
    },
    {
      "cell_type": "code",
      "metadata": {
        "colab": {
          "base_uri": "https://localhost:8080/",
          "height": 551
        },
        "id": "-f3fjZ5EauGY",
        "outputId": "50c8cc48-da5a-4ce7-db03-790b917d67ba"
      },
      "source": [
        "import pandas # Importing Pandas Library\n",
        "dataframe = pandas.read_csv(\"Summer.csv\") # Reading data from the \"Summmer.csv\" file\n",
        "\n",
        "dataframe_with_Gold = dataframe[dataframe['Medal'] == 'Gold']\n",
        "array_with_Gold = [] # Initialising empty array\n",
        "\n",
        "# Calculating gold medals earned by each athlete\n",
        "for athlete in dataframe_with_Gold['Athlete'].unique():\n",
        "    array_with_Gold.append([athlete, len(dataframe_with_Gold[dataframe_with_Gold['Athlete'] == athlete])])\n",
        "\n",
        "# Prints top 5 athletes with respect to total gold medals earned\n",
        "print(pandas.DataFrame(array_with_Gold,columns = ['Athlete','Golds']).sort_values(by='Golds', ascending = False).head(),end=\"\\n\\n\")\n",
        "\n",
        "# Printing Bar chart of top 5 athletes with respect to total gold medals earned \n",
        "pandas.DataFrame(array_with_Gold,columns = ['Athlete','Golds']).sort_values(by='Golds', ascending = False).head().plot(kind='bar', x='Athlete', y='Golds', figsize=(5,5), color='lawngreen')"
      ],
      "execution_count": 8,
      "outputs": [
        {
          "output_type": "stream",
          "name": "stdout",
          "text": [
            "               Athlete  Golds\n",
            "6851   PHELPS, Michael     18\n",
            "3320       SPITZ, Mark      9\n",
            "2714  LATYNINA, Larisa      9\n",
            "4630       LEWIS, Carl      9\n",
            "907       NURMI, Paavo      9\n",
            "\n"
          ]
        },
        {
          "output_type": "execute_result",
          "data": {
            "text/plain": [
              "<matplotlib.axes._subplots.AxesSubplot at 0x7f5685b19f50>"
            ]
          },
          "metadata": {},
          "execution_count": 8
        },
        {
          "output_type": "display_data",
          "data": {
            "image/png": "[encoded data removed]",
            "text/plain": [
              "<Figure size 360x360 with 1 Axes>"
            ]
          },
          "metadata": {
            "needs_background": "light"
          }
        }
      ]
    },
    {
      "cell_type": "markdown",
      "metadata": {
        "id": "Uf17grEIQ5v_"
      },
      "source": [
        "### **6. In which year India won first Gold Medal in Summer Olympics?**"
      ]
    },
    {
      "cell_type": "code",
      "metadata": {
        "colab": {
          "base_uri": "https://localhost:8080/",
          "height": 78
        },
        "id": "B7bESZo_aukv",
        "outputId": "573237fe-6b51-459b-b657-2fd7a26feec8"
      },
      "source": [
        "import pandas # Importing Pandas Library\n",
        "dataframe = pandas.read_csv(\"Summer.csv\") # Reading data from the \"Summmer.csv\" file\n",
        "\n",
        "# Extracting data of all years in which india earned gold\n",
        "dataframe_with_Gold = dataframe[dataframe['Medal'] == 'Gold']\n",
        "dataframe_India = dataframe_with_Gold[dataframe_with_Gold['Country'] == 'IND']\n",
        "\n",
        "# Printing the first year\n",
        "dataframe_India.sort_values(by='Year').head(1)"
      ],
      "execution_count": 9,
      "outputs": [
        {
          "output_type": "execute_result",
          "data": {
            "text/html": [
              "<div>\n",
              "<style scoped>\n",
              "    .dataframe tbody tr th:only-of-type {\n",
              "        vertical-align: middle;\n",
              "    }\n",
              "\n",
              "    .dataframe tbody tr th {\n",
              "        vertical-align: top;\n",
              "    }\n",
              "\n",
              "    .dataframe thead th {\n",
              "        text-align: right;\n",
              "    }\n",
              "</style>\n",
              "<table border=\"1\" class=\"dataframe\">\n",
              "  <thead>\n",
              "    <tr style=\"text-align: right;\">\n",
              "      <th></th>\n",
              "      <th>Year</th>\n",
              "      <th>City</th>\n",
              "      <th>Sport</th>\n",
              "      <th>Discipline</th>\n",
              "      <th>Athlete</th>\n",
              "      <th>Country</th>\n",
              "      <th>Gender</th>\n",
              "      <th>Event</th>\n",
              "      <th>Medal</th>\n",
              "    </tr>\n",
              "  </thead>\n",
              "  <tbody>\n",
              "    <tr>\n",
              "      <th>5512</th>\n",
              "      <td>1928</td>\n",
              "      <td>Amsterdam</td>\n",
              "      <td>Hockey</td>\n",
              "      <td>Hockey</td>\n",
              "      <td>ALLEN, Richard James</td>\n",
              "      <td>IND</td>\n",
              "      <td>Men</td>\n",
              "      <td>Hockey</td>\n",
              "      <td>Gold</td>\n",
              "    </tr>\n",
              "  </tbody>\n",
              "</table>\n",
              "</div>"
            ],
            "text/plain": [
              "      Year       City   Sport Discipline  ... Country Gender   Event Medal\n",
              "5512  1928  Amsterdam  Hockey     Hockey  ...     IND    Men  Hockey  Gold\n",
              "\n",
              "[1 rows x 9 columns]"
            ]
          },
          "metadata": {},
          "execution_count": 9
        }
      ]
    },
    {
      "cell_type": "markdown",
      "metadata": {
        "id": "L693wi2nQ5-O"
      },
      "source": [
        "### **7. Which event is most popular in terms on number of players? (Top 5)**"
      ]
    },
    {
      "cell_type": "code",
      "metadata": {
        "colab": {
          "base_uri": "https://localhost:8080/",
          "height": 556
        },
        "id": "sohpQWfVau75",
        "outputId": "83ff17ec-6149-409e-e502-073a4411bbe8"
      },
      "source": [
        "import pandas # Importing Pandas Library\n",
        "dataframe = pandas.read_csv(\"Summer.csv\") # Reading data from the \"Summmer.csv\" file\n",
        "\n",
        "array_event = [] # Initialising empty array\n",
        "\n",
        "# Calculating total players for each sport\n",
        "for event in dataframe['Event'].unique():\n",
        "    array_event.append([event, len(dataframe[dataframe['Event'] == event])])\n",
        "\n",
        "# Printing top 5 sports with respect to players\n",
        "print(pandas.DataFrame(array_event,columns = ['Event','Players']).sort_values(by='Players', ascending = False).head(),end=\"\\n\\n\")\n",
        "\n",
        "# Printing Bar Graph\n",
        "pandas.DataFrame(array_event,columns = ['Event','Players']).sort_values(by='Players', ascending = False).head().plot(kind='bar', x='Event', y='Players', figsize=(5,5), color='darkgray')"
      ],
      "execution_count": 10,
      "outputs": [
        {
          "output_type": "stream",
          "name": "stdout",
          "text": [
            "                Event  Players\n",
            "80           Football     1497\n",
            "176            Hockey     1422\n",
            "138  Team Competition     1147\n",
            "327        Basketball     1012\n",
            "337          Handball      973\n",
            "\n"
          ]
        },
        {
          "output_type": "execute_result",
          "data": {
            "text/plain": [
              "<matplotlib.axes._subplots.AxesSubplot at 0x7f56863639d0>"
            ]
          },
          "metadata": {},
          "execution_count": 10
        },
        {
          "output_type": "display_data",
          "data": {
            "image/png": "[encoded data removed]",
            "text/plain": [
              "<Figure size 360x360 with 1 Axes>"
            ]
          },
          "metadata": {
            "needs_background": "light"
          }
        }
      ]
    },
    {
      "cell_type": "markdown",
      "metadata": {
        "id": "et4yUbBoQ6H-"
      },
      "source": [
        "### **8. Which sport is having most female Gold Medalists? (Top 5)**"
      ]
    },
    {
      "cell_type": "code",
      "metadata": {
        "colab": {
          "base_uri": "https://localhost:8080/",
          "height": 524
        },
        "id": "Nfb0HfaravSB",
        "outputId": "bf690f2f-350e-4721-91c9-279bb157bc0f"
      },
      "source": [
        "import pandas # Importing Pandas Library\n",
        "dataframe = pandas.read_csv(\"Summer.csv\") # Reading data from the \"Summmer.csv\" file\n",
        "\n",
        "# Extracting data with gold medals\n",
        "dataframe_with_Gold = dataframe[dataframe['Medal'] == 'Gold']\n",
        "\n",
        "# Extracting data of females who earned gold medals \n",
        "dataframe_female = dataframe_with_Gold[dataframe_with_Gold['Gender'] == 'Women']\n",
        "\n",
        "array_female = [] # Initialising empty array\n",
        "\n",
        "for sport in dataframe_female['Sport'].unique():\n",
        "    array_female.append([sport, len(dataframe_female[dataframe_female['Sport'] == sport])])\n",
        "\n",
        "print(pandas.DataFrame(array_female,columns = ['Sport','Women']).sort_values(by='Women', ascending = False).head(),end=\"\\n\\n\")\n",
        "\n",
        "pandas.DataFrame(array_female,columns = ['Sport','Women']).sort_values(by='Women', ascending = False).head().plot(kind='bar', x='Sport', y='Women', figsize=(5,5), color='chocolate')"
      ],
      "execution_count": 11,
      "outputs": [
        {
          "output_type": "stream",
          "name": "stdout",
          "text": [
            "         Sport  Women\n",
            "4     Aquatics    589\n",
            "7    Athletics    389\n",
            "8   Gymnastics    268\n",
            "14      Rowing    217\n",
            "11  Volleyball    166\n",
            "\n"
          ]
        },
        {
          "output_type": "execute_result",
          "data": {
            "text/plain": [
              "<matplotlib.axes._subplots.AxesSubplot at 0x7f56857926d0>"
            ]
          },
          "metadata": {},
          "execution_count": 11
        },
        {
          "output_type": "display_data",
          "data": {
            "image/png": "[encoded data removed]",
            "text/plain": [
              "<Figure size 360x360 with 1 Axes>"
            ]
          },
          "metadata": {
            "needs_background": "light"
          }
        }
      ]
    }
  ]
}